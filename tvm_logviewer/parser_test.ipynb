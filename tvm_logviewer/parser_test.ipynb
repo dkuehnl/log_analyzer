{
 "cells": [
  {
   "cell_type": "code",
   "execution_count": 4,
   "metadata": {},
   "outputs": [],
   "source": [
    "from pyparsing import (\n",
    "    Word, Literal, Combine, Optional, Regex, Suppress, restOfLine, ParserElement, StringEnd, MatchFirst\n",
    ")\n",
    "\n",
    "log_line = \"<08:16:53.307 **ERR** DB_ADAP_MGR 5034:5989 0:0>[operation_callback-DbCouchBaseSdk3.cpp-3010]:procedure = [asbcGetSyncData] cbType = [GET] errorCode = [0x12d] mappedErrorCode = [0xd] errorType = [0] errorString = [LCB_ERR_DOCUMENT_NOT_FOUND (301): Document is not found],KEY = [2477-0-614-2987-5-198115328-1743608335351178,asbcData]\""
   ]
  },
  {
   "cell_type": "code",
   "execution_count": 3,
   "metadata": {},
   "outputs": [
    {
     "ename": "NameError",
     "evalue": "name 're' is not defined",
     "output_type": "error",
     "traceback": [
      "\u001b[1;31m---------------------------------------------------------------------------\u001b[0m",
      "\u001b[1;31mNameError\u001b[0m                                 Traceback (most recent call last)",
      "Cell \u001b[1;32mIn[3], line 18\u001b[0m\n\u001b[0;32m     15\u001b[0m message_basic \u001b[38;5;241m=\u001b[39m Optional(restOfLine\u001b[38;5;241m.\u001b[39msetResultsName(\u001b[38;5;124m\"\u001b[39m\u001b[38;5;124mmessage\u001b[39m\u001b[38;5;124m\"\u001b[39m))\n\u001b[0;32m     17\u001b[0m tail_alternative \u001b[38;5;241m=\u001b[39m optional_id_block \u001b[38;5;241m+\u001b[39m module \u001b[38;5;241m+\u001b[39m function \u001b[38;5;241m+\u001b[39m message_basic\n\u001b[1;32m---> 18\u001b[0m message_multiline \u001b[38;5;241m=\u001b[39m Regex(\u001b[38;5;124mr\u001b[39m\u001b[38;5;124m\"\u001b[39m\u001b[38;5;124m.*\u001b[39m\u001b[38;5;124m\"\u001b[39m, \u001b[43mre\u001b[49m\u001b[38;5;241m.\u001b[39mDOTALL)\u001b[38;5;241m.\u001b[39msetResultsName(\u001b[38;5;124m\"\u001b[39m\u001b[38;5;124mmessage\u001b[39m\u001b[38;5;124m\"\u001b[39m)\n\u001b[0;32m     20\u001b[0m tail \u001b[38;5;241m=\u001b[39m MatchFirst([tail_alternative, message_multiline])\n\u001b[0;32m     21\u001b[0m log_parser \u001b[38;5;241m=\u001b[39m first_block \u001b[38;5;241m+\u001b[39m tail \u001b[38;5;241m+\u001b[39m StringEnd()\n",
      "\u001b[1;31mNameError\u001b[0m: name 're' is not defined"
     ]
    }
   ],
   "source": [
    "ParserElement.setDefaultWhitespaceChars(\" \")\n",
    "langle  = Suppress(\"<\")\n",
    "rangle  = Suppress(\">\")\n",
    "\n",
    "timestamp = Word(\"0123456789:.\", exact=12).setResultsName(\"timestamp\")\n",
    "log_level = Word(\"ABCDEFGHIJKLMNOPQRSTUVWXYZ*\").setResultsName(\"log_level\")\n",
    "tag = Word(\"ABCDEFGHIJKLMNOPQRSTUVWXYZabcdefghijklmnopqrstuvwxyz\").setResultsName(\"tag\")\n",
    "pid_part = Word(\"0123456789:\")\n",
    "pid = Combine(pid_part + Literal(\" \") + pid_part).setResultsName(\"PID\")\n",
    "first_block = langle + timestamp + log_level + tag + pid + rangle\n",
    "\n",
    "optional_id_block = Optional(langle + Regex(r\"\\d+\").setResultsName(\"optional_id\") + rangle)\n",
    "module = langle + Regex(r\"[^>]+\").setResultsName(\"module\") + rangle\n",
    "function = Optional(Suppress(\"[\") + Regex(r\"[^\\]]+\").setResultsName(\"function\") + Suppress(\"]\"))\n",
    "message_basic = Optional(restOfLine.setResultsName(\"message\"))\n",
    "\n",
    "tail_alternative = optional_id_block + module + function + message_basic\n",
    "message_multiline = Regex(r\".*\", re.DOTALL).setResultsName(\"message\")\n",
    "\n",
    "tail = MatchFirst([tail_alternative, message_multiline])\n",
    "log_parser = first_block + tail + StringEnd()"
   ]
  }
 ],
 "metadata": {
  "kernelspec": {
   "display_name": "Python 3",
   "language": "python",
   "name": "python3"
  },
  "language_info": {
   "codemirror_mode": {
    "name": "ipython",
    "version": 3
   },
   "file_extension": ".py",
   "mimetype": "text/x-python",
   "name": "python",
   "nbconvert_exporter": "python",
   "pygments_lexer": "ipython3",
   "version": "3.12.3"
  }
 },
 "nbformat": 4,
 "nbformat_minor": 2
}
