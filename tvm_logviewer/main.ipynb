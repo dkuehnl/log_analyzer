{
 "cells": [
  {
   "cell_type": "code",
   "execution_count": 4,
   "metadata": {},
   "outputs": [],
   "source": [
    "import pandas as pd\n",
    "import re\n",
    "import multiprocessing as mp\n",
    "from pyparsing import (\n",
    "    Word, Literal, Combine, Optional, Regex, Suppress, restOfLine, ParserElement, StringEnd, MatchFirst, alphas, alphanums\n",
    ")\n",
    "\n",
    "ParserElement.setDefaultWhitespaceChars(\" \")\n",
    "langle  = Suppress(\"<\")\n",
    "rangle  = Suppress(\">\")\n",
    "\n",
    "timestamp = Word(\"0123456789:.\", exact=12).setResultsName(\"timestamp\")\n",
    "log_level = Word(\"ABCDEFGHIJKLMNOPQRSTUVWXYZ*\").setResultsName(\"log_level\")\n",
    "tag = Word(alphas, alphanums + \"_\").setResultsName(\"tag\")\n",
    "pid_part = Word(\"0123456789:\")\n",
    "pid = Combine(pid_part + Literal(\" \") + pid_part).setResultsName(\"PID\")\n",
    "first_block = langle + timestamp + log_level + tag + pid + rangle\n",
    "\n",
    "optional_id_block = Optional(langle + Regex(r\"\\d+\").setResultsName(\"optional_id\") + rangle)\n",
    "module = langle + Regex(r\"[^>]+\").setResultsName(\"module\") + rangle\n",
    "function = Optional(Suppress(\"[\") + Regex(r\"[^\\]]+\").setResultsName(\"function\") + Suppress(\"]\"))\n",
    "message_basic = Optional(restOfLine.setResultsName(\"message\"))\n",
    "\n",
    "tail_alternative = optional_id_block + module + function + message_basic\n",
    "message_multiline = Regex(r\".*\", re.DOTALL).setResultsName(\"message\")\n",
    "\n",
    "tail = MatchFirst([tail_alternative, message_multiline])\n",
    "log_parser = first_block + tail + StringEnd()\n",
    "\n",
    "def parse_line(line):\n",
    "    if not re.match(r\"^<\\d{2}:\\d{2}:\\d{2}\\.\\d{3}\", line):\n",
    "        return {\n",
    "            \"timestamp\": \"\", \n",
    "            \"log_level\": \"\",\n",
    "            \"tag\": \"\",\n",
    "            \"PID\": \"\",\n",
    "            \"optional_id\": \"\", \n",
    "            \"module\": \"\", \n",
    "            \"function\": \"\", \n",
    "            \"message\": line.strip()\n",
    "        }\n",
    "    return log_parser.parseString(line.strip(), parseAll=True)\n",
    "\n",
    "def add_to_dataframe(df, result): \n",
    "    df.loc[len(df)] = [\n",
    "        result.get(\"timestamp\", \"\"), \n",
    "        result.get(\"log_level\", \"\"), \n",
    "        result.get(\"tag\", \"\"), \n",
    "        result.get(\"PID\", \"\"), \n",
    "        result.get(\"optional_id\", \"\"), \n",
    "        result.get(\"module\", \"\"), \n",
    "        result.get(\"function\", \"\"), \n",
    "        result.get(\"message\", \"\")]\n",
    "\n",
    "def parse_worker(lines): \n",
    "    results = []\n",
    "    for line in lines: \n",
    "        try: \n",
    "            results.append(parse_line(line))\n",
    "        except Exception as e: \n",
    "            print(f\"Error: {e} in line: {line}\")\n",
    "    \n",
    "    return results"
   ]
  },
  {
   "cell_type": "code",
   "execution_count": 62,
   "metadata": {},
   "outputs": [],
   "source": [
    "logfile_1 = \"./IMS.log_20250409081706.log\"\n",
    "logfile_2 = \"./IMS.log_20250409081724.log\"\n",
    "logfile_3 = \"./IMS.log_20250409082908.log\"\n",
    "logfile_4 = \"./IMS.log_20250409085500.log\"\n",
    "\n",
    "# dataframe = pd.DataFrame(columns=[\"Timestamp\", \"Level\", \"Tag\", \"PID\", \"Optional-ID\", \"Module\", \"Function\", \"Message\"])\n",
    "# i = 0"
   ]
  },
  {
   "cell_type": "code",
   "execution_count": null,
   "metadata": {},
   "outputs": [],
   "source": [
    "if __name__ == \"__main__\": \n",
    "    with open(logfile_1, \"r\") as log: \n",
    "        all_lines = log.readlines()\n",
    "\n",
    "    n_workers = mp.cpu_count()\n",
    "    chunks = [all_lines[i::n_workers] for i in range(n_workers)]\n",
    "\n",
    "    with mp.Pool(n_workers) as pool: \n",
    "        results = pool.map(parse_worker, chunks)\n",
    "\n",
    "    all_results = [item for sublist in results for item in sublist]"
   ]
  },
  {
   "cell_type": "code",
   "execution_count": null,
   "metadata": {},
   "outputs": [],
   "source": [
    "data = []\n",
    "for result in all_results: \n",
    "    row = {\n",
    "        \"Timestamp\": result.get(\"timestamp\", \"\"), \n",
    "        \"Log-Level\": result.get(\"log_level\", \"\"), \n",
    "        \"Tag\": result.get(\"tag\", \"\"), \n",
    "        \"PID\": result.get(\"PID\", \"\"), \n",
    "        \"Optional-ID\": result.get(\"optional_id\", \"\"), \n",
    "        \"Module\": result.get(\"module\", \"\"), \n",
    "        \"Function\": result.get(\"function\", \"\"), \n",
    "        \"Message\": result.get(\"message\", \"\")\n",
    "    }\n",
    "    data.append(row)\n",
    "\n",
    "dataframe = pd.DataFrame(data)"
   ]
  },
  {
   "cell_type": "code",
   "execution_count": 5,
   "metadata": {},
   "outputs": [],
   "source": [
    "log_line = \"<08:16:53.307 **ERR** DB_ADAP_MGR 5034:5989 0:0>[operation_callback-DbCouchBaseSdk3.cpp-3010]:procedure = [asbcGetSyncData] cbType = [GET] errorCode = [0x12d] mappedErrorCode = [0xd] errorType = [0] errorString = [LCB_ERR_DOCUMENT_NOT_FOUND (301): Document is not found],KEY = [2477-0-614-2987-5-198115328-1743608335351178,asbcData]\"\n",
    "\n",
    "try: \n",
    "    result = parse_line(log_line); \n",
    "except Exception as e: \n",
    "    print(f\"Error: {e} in line: {log_line}\")"
   ]
  }
 ],
 "metadata": {
  "kernelspec": {
   "display_name": "Python 3",
   "language": "python",
   "name": "python3"
  },
  "language_info": {
   "codemirror_mode": {
    "name": "ipython",
    "version": 3
   },
   "file_extension": ".py",
   "mimetype": "text/x-python",
   "name": "python",
   "nbconvert_exporter": "python",
   "pygments_lexer": "ipython3",
   "version": "3.12.3"
  }
 },
 "nbformat": 4,
 "nbformat_minor": 2
}
